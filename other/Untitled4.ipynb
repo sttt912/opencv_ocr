{
 "cells": [
  {
   "cell_type": "code",
   "execution_count": 1,
   "metadata": {},
   "outputs": [
    {
     "name": "stdout",
     "output_type": "stream",
     "text": [
      "Requirement already satisfied: pyzbar in c:\\programdata\\anaconda3\\lib\\site-packages (0.1.8)\n"
     ]
    }
   ],
   "source": [
    "!pip install pyzbar"
   ]
  },
  {
   "cell_type": "code",
   "execution_count": 2,
   "metadata": {},
   "outputs": [
    {
     "name": "stdout",
     "output_type": "stream",
     "text": [
      "Collecting opencv-contrib-python\n",
      "  Downloading opencv_contrib_python-4.5.1.48-cp37-cp37m-win_amd64.whl (41.2 MB)\n",
      "Requirement already satisfied: numpy>=1.14.5 in c:\\programdata\\anaconda3\\lib\\site-packages (from opencv-contrib-python) (1.18.1)\n",
      "Installing collected packages: opencv-contrib-python\n",
      "Successfully installed opencv-contrib-python-4.5.1.48\n"
     ]
    }
   ],
   "source": [
    "!pip install opencv-contrib-python  --user"
   ]
  },
  {
   "cell_type": "code",
   "execution_count": null,
   "metadata": {},
   "outputs": [],
   "source": [
    "import cv2\n",
    "import numpy as np\n",
    "from pyzbar.pyzbar import decode\n",
    "cap = cv2.VideoCapture(0)\n",
    "while True:\n",
    "    ret,frame = cap.read()\n",
    "    for barcode in decode(frame):\n",
    "        myData = barcode.data.decode('utf-8')\n",
    "        pts = np.array([barcode.polygon], np.int)\n",
    "        cv2.polylines(frame, [pts], True, (255, 0 ,255), 5)\n",
    "        pts2 = barcode.rect\n",
    "        cv2.putText(frame, myData, (pts2[0], pts2[1]), cv2.FONT_HERSHEY_SIMPLEX, 0.9, (255, 0, 255), 2)\n",
    "    cv2.imshow('Result', frame)\n",
    "    cv2.waitKey(1)"
   ]
  },
  {
   "cell_type": "code",
   "execution_count": 1,
   "metadata": {},
   "outputs": [
    {
     "data": {
      "text/plain": [
       "True"
      ]
     },
     "execution_count": 1,
     "metadata": {},
     "output_type": "execute_result"
    }
   ],
   "source": [
    "import cv2 as cv\n",
    "import numpy as np\n",
    "dictionaty = cv.aruco.Dictionary_get(cv.aruco.DICT_6X6_250)\n",
    "markerImage = np.zeros((200, 200))\n",
    "data = 6\n",
    "size = 200\n",
    "border = 1\n",
    "markerImage = cv.aruco.drawMarker(dictionaty , data, size, markerImage, border)\n",
    "cv.imwrite(\"marker6.png\", markerImage)"
   ]
  },
  {
   "cell_type": "code",
   "execution_count": null,
   "metadata": {},
   "outputs": [],
   "source": [
    "import cv2 as cv\n",
    "import numpy as np\n",
    "dictionary = cv.aruco.Dictionary_get(cv.aruco.DICT_6X6_250)\n",
    "cap=cv.VideoCapture(0)\n",
    "arucoParameters = cv.aruco.DetectorParameters_create()\n",
    "while True:\n",
    "    _,frame=cap.read()\n",
    "    gray=cv.cvtColor(frame,cv.COLOR_BGR2GRAY)\n",
    "    corners, ids, rejectedImgPoints = cv.aruco.detectMarkers(gray, dictionary, parameters=arucoParameters)\n",
    "    frame = cv.aruco.drawDetectedMarkers(frame, corners, ids)\n",
    "    cv.imshow(\"arucocode\", frame)\n",
    "    cv.waitKey(1)"
   ]
  },
  {
   "cell_type": "code",
   "execution_count": null,
   "metadata": {},
   "outputs": [],
   "source": [
    "import numpy as np\n",
    "import cv2\n",
    "import cv2.aruco as aruco\n",
    "cap = cv2.VideoCapture(0)\n",
    "ar_img=cv2.imread(\"game.jpg\")\n",
    "while(True):\n",
    "    ret, frame = cap.read()\n",
    "    cam_h,cam_w,cam_size=frame.shape\n",
    "    gray = cv2.cvtColor(frame, cv2.COLOR_BGR2GRAY)\n",
    "    aruco_dict = aruco.Dictionary_get(aruco.DICT_6X6_1000)\n",
    "    arucoParameters = aruco.DetectorParameters_create()\n",
    "    corners, ids, rejectedImgPoints = aruco.detectMarkers(gray, aruco_dict, parameters=arucoParameters)\n",
    "    if np.all(ids != None):\n",
    "        c1 = (corners[0][0][0][0], corners[0][0][0][1])\n",
    "        c2 = (corners[0][0][1][0], corners[0][0][1][1])\n",
    "        c3 = (corners[0][0][2][0], corners[0][0][2][1])\n",
    "        c4 = (corners[0][0][3][0], corners[0][0][3][1])\n",
    "        pts_scr=np.float32([c1,c2,c3,c4])\n",
    "        height,width,size=ar_img.shape\n",
    "        x1=(0,0)\n",
    "        x2=(width,0)\n",
    "        x3=(width,height)\n",
    "        x4=(0,height)\n",
    "        pts_dst=np.float32([x1,x2,x3,x4])\n",
    "        h, status = cv2.findHomography(pts_dst, pts_scr)\n",
    "        warpped=cv2.warpPerspective(ar_img,h,(cam_w,cam_h))\n",
    "        cv2.fillConvexPoly(frame,pts_scr.astype(int),255,16)\n",
    "        frame=frame+warpped\n",
    "    cv2.imshow('Display',frame)\n",
    "    cv2.waitKey(1)"
   ]
  },
  {
   "cell_type": "code",
   "execution_count": null,
   "metadata": {},
   "outputs": [],
   "source": []
  }
 ],
 "metadata": {
  "kernelspec": {
   "display_name": "Python 3",
   "language": "python",
   "name": "python3"
  },
  "language_info": {
   "codemirror_mode": {
    "name": "ipython",
    "version": 3
   },
   "file_extension": ".py",
   "mimetype": "text/x-python",
   "name": "python",
   "nbconvert_exporter": "python",
   "pygments_lexer": "ipython3",
   "version": "3.7.6"
  }
 },
 "nbformat": 4,
 "nbformat_minor": 4
}
