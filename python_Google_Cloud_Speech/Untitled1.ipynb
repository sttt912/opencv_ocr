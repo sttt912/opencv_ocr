{
  "nbformat": 4,
  "nbformat_minor": 0,
  "metadata": {
    "colab": {
      "name": "Untitled1.ipynb",
      "provenance": []
    },
    "kernelspec": {
      "name": "python3",
      "display_name": "Python 3"
    }
  },
  "cells": [
    {
      "cell_type": "code",
      "metadata": {
        "id": "-GXI5bb_QcSn",
        "colab_type": "code",
        "colab": {
          "base_uri": "https://localhost:8080/",
          "height": 122
        },
        "outputId": "6402caf2-7e51-481f-cda6-3806dbafaf21"
      },
      "source": [
        "!pip install SpeechRecognition"
      ],
      "execution_count": 1,
      "outputs": [
        {
          "output_type": "stream",
          "text": [
            "Collecting SpeechRecognition\n",
            "\u001b[?25l  Downloading https://files.pythonhosted.org/packages/26/e1/7f5678cd94ec1234269d23756dbdaa4c8cfaed973412f88ae8adf7893a50/SpeechRecognition-3.8.1-py2.py3-none-any.whl (32.8MB)\n",
            "\u001b[K     |████████████████████████████████| 32.8MB 125kB/s \n",
            "\u001b[?25hInstalling collected packages: SpeechRecognition\n",
            "Successfully installed SpeechRecognition-3.8.1\n"
          ],
          "name": "stdout"
        }
      ]
    },
    {
      "cell_type": "code",
      "metadata": {
        "id": "giSh4iClQyOI",
        "colab_type": "code",
        "colab": {}
      },
      "source": [
        "import speech_recognition as sr"
      ],
      "execution_count": 2,
      "outputs": []
    },
    {
      "cell_type": "code",
      "metadata": {
        "id": "pFu8LbNwQ4gf",
        "colab_type": "code",
        "colab": {}
      },
      "source": [
        "r = sr.Recognizer()"
      ],
      "execution_count": 3,
      "outputs": []
    },
    {
      "cell_type": "code",
      "metadata": {
        "id": "WMQD9GC6Q9c_",
        "colab_type": "code",
        "colab": {}
      },
      "source": [
        "file = sr.AudioFile('wah.wav')"
      ],
      "execution_count": 4,
      "outputs": []
    },
    {
      "cell_type": "code",
      "metadata": {
        "id": "SXinZIuwTY1n",
        "colab_type": "code",
        "colab": {
          "base_uri": "https://localhost:8080/",
          "height": 54
        },
        "outputId": "12e8efcf-3b3c-4342-d49a-c33541dd9161"
      },
      "source": [
        "with file as source:\n",
        "  r.adjust_for_ambient_noise(source)\n",
        "  audio = r.record(source)\n",
        "  result = r.recognize_google(audio, language='ru')\n",
        "print(result)"
      ],
      "execution_count": 6,
      "outputs": [
        {
          "output_type": "stream",
          "text": [
            "колени он прижал руки псайкера и закрыл ему рот чтобы Колдун не смог выплюнуть ни одного проклятия стоящую входа в переулок Колдун нервно оглянулся назад Torex успешно но проникновенно пробормотал молитву после чего стремительно правила священным кинжалом по толстой шее мужчины ровный грамотно сделанный порез из которого сразу же полилась кровь она за струилась по шее колдуна стекла на улицу а затем наполнила зловонную забиты отходами канаву где уже жужжали криптиды конвульсии псайкера прекратились когда на передник только брызнул последний фонтан Кровавой пеной он беззвучно выругался улика Конечно они были готовы к этому но тем не менее подобного торвик мог бы избежать если бы Имперский прислужник чей трубки перебежал перед ним не оказался таким чертовски сильным Torex мог бы закрыть тому глотку как и\n"
          ],
          "name": "stdout"
        }
      ]
    }
  ]
}