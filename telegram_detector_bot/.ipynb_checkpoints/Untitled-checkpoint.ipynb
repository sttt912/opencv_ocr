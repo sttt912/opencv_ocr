{
 "cells": [
  {
   "cell_type": "code",
   "execution_count": 1,
   "metadata": {},
   "outputs": [
    {
     "name": "stdout",
     "output_type": "stream",
     "text": [
      "Requirement already satisfied: pyTelegramBotAPI in c:\\programdata\\anaconda3\\lib\\site-packages (3.7.6)\n",
      "Requirement already satisfied: requests in c:\\programdata\\anaconda3\\lib\\site-packages (from pyTelegramBotAPI) (2.22.0)\n",
      "Requirement already satisfied: certifi>=2017.4.17 in c:\\programdata\\anaconda3\\lib\\site-packages (from requests->pyTelegramBotAPI) (2019.11.28)\n",
      "Requirement already satisfied: chardet<3.1.0,>=3.0.2 in c:\\programdata\\anaconda3\\lib\\site-packages (from requests->pyTelegramBotAPI) (3.0.4)\n",
      "Requirement already satisfied: idna<2.9,>=2.5 in c:\\programdata\\anaconda3\\lib\\site-packages (from requests->pyTelegramBotAPI) (2.8)\n",
      "Requirement already satisfied: urllib3!=1.25.0,!=1.25.1,<1.26,>=1.21.1 in c:\\programdata\\anaconda3\\lib\\site-packages (from requests->pyTelegramBotAPI) (1.25.8)\n"
     ]
    }
   ],
   "source": [
    "!pip install pyTelegramBotAPI"
   ]
  },
  {
   "cell_type": "code",
   "execution_count": null,
   "metadata": {},
   "outputs": [],
   "source": [
    "import cv2\n",
    "import numpy as np\n",
    "import telebot\n",
    "\n",
    "bot = telebot.TeleBot('1597886439:AAFpW0jcnSYpcBjM9Qc9jFJtAwr4Byq_Ewg')\n",
    "chat_id = 361499081\n",
    "\n",
    "face = cv2.CascadeClassifier('haarcascade_frontalface_alt.xml')\n",
    "\n",
    "cam = cv2.VideoCapture(0)\n",
    "prev_frame = cv2.cvtColor(cam.read()[1], cv2.COLOR_RGB2GRAY)\n",
    "current_frame = cv2.cvtColor(cam.read()[1], cv2.COLOR_RGB2GRAY)\n",
    "next_frame = cv2.cvtColor(cam.read()[1], cv2.COLOR_RGB2GRAY)\n",
    "\n",
    "def diffImg(f0, f1, f2):\n",
    "    d1 = cv2.absdiff(f2,f1)\n",
    "    d2 = cv2.absdiff(f1,f0)\n",
    "    res = cv2.bitwise_and(d1, d2)\n",
    "    d3 = np.ravel(res)\n",
    "    d4 = np.count_nonzero(d3)\n",
    "    return d4, res\n",
    "\n",
    "while True:\n",
    "    nzero, result = diffImg(prev_frame, current_frame, next_frame)\n",
    "    _ret, frame = cam.read()\n",
    "    gray = cv2.cvtColor(frame, cv2.COLOR_RGB2GRAY)\n",
    "    faces = face.detectMultiScale(gray)\n",
    "    out_faces = np.sum(faces)\n",
    "    \n",
    "    if nzero>150000 and out_faces>400:\n",
    "        cv2.imshow(\"Camera\", frame)\n",
    "        nzero = 0\n",
    "        cv2.imwrite('1.png', frame)\n",
    "        photo = open('1.png', 'rb')\n",
    "        bot.send_photo(chat_id,photo)\n",
    "        bot.send_message(chat_id, \"Шукана людина!\")\n",
    "        \n",
    "    cv2.imshow(\"Camera\", frame)\n",
    "    prev_frame = current_frame\n",
    "    current_frame = next_frame\n",
    "    next_frame = cv2.cvtColor(cam.read()[1], cv2.COLOR_RGB2GRAY)\n",
    "    \n",
    "    key = cv2.waitKey(10)\n",
    "    if key == 27:\n",
    "        cv2.destroyWindow()\n",
    "        break"
   ]
  },
  {
   "cell_type": "code",
   "execution_count": null,
   "metadata": {},
   "outputs": [],
   "source": []
  }
 ],
 "metadata": {
  "kernelspec": {
   "display_name": "Python 3",
   "language": "python",
   "name": "python3"
  },
  "language_info": {
   "codemirror_mode": {
    "name": "ipython",
    "version": 3
   },
   "file_extension": ".py",
   "mimetype": "text/x-python",
   "name": "python",
   "nbconvert_exporter": "python",
   "pygments_lexer": "ipython3",
   "version": "3.7.6"
  }
 },
 "nbformat": 4,
 "nbformat_minor": 4
}
