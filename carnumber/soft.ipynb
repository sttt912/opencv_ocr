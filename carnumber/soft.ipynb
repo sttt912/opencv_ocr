{
 "cells": [
  {
   "cell_type": "code",
   "execution_count": 4,
   "metadata": {},
   "outputs": [
    {
     "name": "stdout",
     "output_type": "stream",
     "text": [
      "Collecting opencv-python\n",
      "  Downloading opencv_python-4.4.0.42-cp37-cp37m-win_amd64.whl (33.5 MB)\n",
      "Requirement already satisfied: numpy>=1.14.5 in c:\\programdata\\anaconda3\\lib\\site-packages (from opencv-python) (1.18.1)\n",
      "Installing collected packages: opencv-python\n",
      "Successfully installed opencv-python-4.4.0.42\n"
     ]
    }
   ],
   "source": [
    "!pip install opencv-python\n",
    "!pip install pytesseract"
   ]
  },
  {
   "cell_type": "code",
   "execution_count": 1,
   "metadata": {},
   "outputs": [],
   "source": [
    "import cv2\n",
    "import pytesseract"
   ]
  },
  {
   "cell_type": "code",
   "execution_count": 2,
   "metadata": {},
   "outputs": [],
   "source": [
    "number_cascade = cv2.CascadeClassifier('car_number.xml') \n",
    "pytesseract.pytesseract.tesseract_cmd = 'C:\\\\Program Files\\\\Tesseract-OCR\\\\tesseract.exe'"
   ]
  },
  {
   "cell_type": "code",
   "execution_count": 3,
   "metadata": {},
   "outputs": [],
   "source": [
    "#config='--psm 10 --oem 3 -c tessedit_char_whitelist=0123456789'\n",
    "config = r'--oem 3 --psm 6'"
   ]
  },
  {
   "cell_type": "code",
   "execution_count": 4,
   "metadata": {},
   "outputs": [],
   "source": [
    "def detect(gray, frame): \n",
    "    number = number_cascade.detectMultiScale(gray, 1.1, 8) \n",
    "    for (x, y, w, h) in number: \n",
    "        cv2.rectangle(frame, (x, y), ((x + w), (y + h)), (255, 0, 0), 2)\n",
    "        crop_img = frame[y:y+h, x+10:x+w-15]\n",
    "        data = pytesseract.image_to_string(crop_img, config=config, lang='rus+eng')\n",
    "        cv2.putText(frame, data, (x,y), cv2.FONT_HERSHEY_SIMPLEX, 1, (0,0,255), 2)\n",
    "\n",
    "    return frame "
   ]
  },
  {
   "cell_type": "code",
   "execution_count": 6,
   "metadata": {},
   "outputs": [],
   "source": [
    "fourcc = cv2.VideoWriter_fourcc(*'XVID')\n",
    "out = cv2.VideoWriter('output.avi', fourcc, 30.0, (640,480))\n",
    "\n",
    "#video_capture = cv2.VideoCapture('video2.mp4') \n",
    "video_capture = cv2.VideoCapture(0)\n",
    "\n",
    "while True: \n",
    "    _, frame = video_capture.read()                 \n",
    "    gray = cv2.cvtColor(frame, cv2.COLOR_BGR2GRAY)        \n",
    "    canvas = detect(gray, frame)\n",
    "    out.write(canvas)\n",
    "    cv2.imshow('Video', canvas)                       \n",
    "    if cv2.waitKey(1) & 0xff == ord('q'):                \n",
    "        break\n",
    "   \n",
    "video_capture.release()\n",
    "out.release()\n",
    "cv2.destroyAllWindows() "
   ]
  },
  {
   "cell_type": "code",
   "execution_count": null,
   "metadata": {},
   "outputs": [],
   "source": []
  }
 ],
 "metadata": {
  "kernelspec": {
   "display_name": "Python 3",
   "language": "python",
   "name": "python3"
  },
  "language_info": {
   "codemirror_mode": {
    "name": "ipython",
    "version": 3
   },
   "file_extension": ".py",
   "mimetype": "text/x-python",
   "name": "python",
   "nbconvert_exporter": "python",
   "pygments_lexer": "ipython3",
   "version": "3.7.6"
  }
 },
 "nbformat": 4,
 "nbformat_minor": 4
}
