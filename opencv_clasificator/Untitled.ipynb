{
 "cells": [
  {
   "cell_type": "code",
   "execution_count": 1,
   "metadata": {},
   "outputs": [],
   "source": [
    "import cv2\n",
    "import numpy as np\n",
    "img = cv2.imread('numbers.png');\n",
    "\n",
    "gray = cv2.cvtColor(img,cv2.COLOR_BGR2GRAY)\n",
    "blur = cv2.GaussianBlur(gray,(5,5),0)\n",
    "thresh = cv2.adaptiveThreshold(blur,255,cv2.ADAPTIVE_THRESH_GAUSSIAN_C,cv2.THRESH_BINARY,11,2)\n",
    "\n",
    "contours, hierarchy = cv2.findContours(thresh, cv2.RETR_LIST, cv2.CHAIN_APPROX_SIMPLE)\n",
    "\n",
    "samples = np.empty((0,100))\n",
    "response = []\n",
    "keys = [i for i in range(48,58)]"
   ]
  },
  {
   "cell_type": "code",
   "execution_count": 2,
   "metadata": {},
   "outputs": [
    {
     "name": "stdout",
     "output_type": "stream",
     "text": [
      "Cascade great\n"
     ]
    }
   ],
   "source": [
    "for cnt in contours:\n",
    "    if cv2.contourArea(cnt)>50:\n",
    "        [x,y,w,h] = cv2.boundingRect(cnt)\n",
    "        \n",
    "        if h>28:\n",
    "            cv2.rectangle(img, (x,y), (x+w, y+h), (0,0,255), 2)\n",
    "            roi = thresh[y:y+h, x:x+w]\n",
    "            roismall = cv2.resize(roi,(10,10))\n",
    "            cv2.imshow('Original', img)\n",
    "            key = cv2.waitKey(0)\n",
    "            \n",
    "            if key == 27:  \n",
    "                print(\"TODO\")\n",
    "            elif key in keys:\n",
    "                response.append(int(chr(key)))\n",
    "                sample = roismall.reshape((1,100))\n",
    "                samples = np.append(samples,sample,0)\n",
    "                                \n",
    "response = np.array(response, np.float32)\n",
    "response = response.reshape((response.size, 1))\n",
    "                                \n",
    "np.savetxt(\"samples.data\", samples)                            \n",
    "np.savetxt(\"response.data\", response)\n",
    "\n",
    "print(\"Cascade great\")"
   ]
  },
  {
   "cell_type": "code",
   "execution_count": null,
   "metadata": {},
   "outputs": [
    {
     "name": "stdout",
     "output_type": "stream",
     "text": [
      "2.0\n",
      "2.0\n",
      "6.0\n",
      "8.0\n",
      "2.0\n",
      "0.0\n",
      "5.0\n",
      "4.0\n"
     ]
    }
   ],
   "source": [
    "import cv2\n",
    "import numpy as np\n",
    "img = cv2.imread('5028.png');\n",
    "\n",
    "samples = np.loadtxt(\"samples.data\", np.float32)\n",
    "response = np.loadtxt(\"response.data\", np.float32)\n",
    "\n",
    "response = response.reshape((response.size, 1))\n",
    "\n",
    "model = cv2.ml.KNearest_create()\n",
    "model.train(samples, cv2.ml.ROW_SAMPLE, response)\n",
    "\n",
    "out = np.zeros(img.shape, np.uint8)\n",
    "\n",
    "gray = cv2.cvtColor(img,cv2.COLOR_BGR2GRAY)\n",
    "thresh = cv2.adaptiveThreshold(gray,255,cv2.ADAPTIVE_THRESH_GAUSSIAN_C,cv2.THRESH_BINARY,11,2)\n",
    "\n",
    "contours, hierarchy = cv2.findContours(thresh, cv2.RETR_LIST, cv2.CHAIN_APPROX_SIMPLE)\n",
    "\n",
    "for cnt in contours:\n",
    "    if cv2.contourArea(cnt)>50:\n",
    "        [x,y,w,h] = cv2.boundingRect(cnt)\n",
    "        \n",
    "        if h>28:\n",
    "            cv2.rectangle(img, (x,y), (x+w, y+h), (0,0,255), 2)\n",
    "            roi = thresh[y:y+h, x:x+w]\n",
    "            roismall = cv2.resize(roi,(10,10))\n",
    "            roismall = roismall.reshape((1,100))\n",
    "            roismall = np.float32(roismall)\n",
    "            retval, result, neight_resp, dist = model.findNearest(roismall, k=1)\n",
    "            string = str(int(result[0][0]))\n",
    "            print(result[0][0])\n",
    "            cv2.putText(out,string, (x, y+h), 0, 1, (0,255,0))\n",
    "            \n",
    "            \n",
    "cv2.imshow('Original', img)\n",
    "cv2.imshow('Result', out)\n",
    "cv2.waitKey(0)"
   ]
  },
  {
   "cell_type": "code",
   "execution_count": null,
   "metadata": {},
   "outputs": [],
   "source": []
  }
 ],
 "metadata": {
  "kernelspec": {
   "display_name": "Python 3",
   "language": "python",
   "name": "python3"
  },
  "language_info": {
   "codemirror_mode": {
    "name": "ipython",
    "version": 3
   },
   "file_extension": ".py",
   "mimetype": "text/x-python",
   "name": "python",
   "nbconvert_exporter": "python",
   "pygments_lexer": "ipython3",
   "version": "3.7.6"
  }
 },
 "nbformat": 4,
 "nbformat_minor": 4
}
