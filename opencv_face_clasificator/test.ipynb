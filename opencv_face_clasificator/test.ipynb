{
 "cells": [
  {
   "cell_type": "code",
   "execution_count": null,
   "metadata": {},
   "outputs": [],
   "source": []
  },
  {
   "cell_type": "code",
   "execution_count": null,
   "metadata": {},
   "outputs": [],
   "source": [
    "import cv2\n",
    "recognizer = cv2.face.LBPHFaceRecognizer_create()\n",
    "recognizer.read('model/trainer.yml')\n",
    "cascadePath = \"haarcascade_frontalface_alt2.xml\"\n",
    "faceCascade = cv2.CascadeClassifier(cascadePath)\n",
    "font = cv2.FONT_HERSHEY_SIMPLEX\n",
    "id = 0\n",
    "names = ['Vova', 'Kolia', 'Dima', 'Gachiman', 'None']\n",
    "cam = cv2.VideoCapture(0)\n",
    "while True:\n",
    "    ret, img = cam.read()\n",
    "    gray = cv2.cvtColor(img, cv2.COLOR_BGR2GRAY)\n",
    "    faces = faceCascade.detectMultiScale(gray, scaleFactor = 1.2, minNeighbors = 5, minSize = (64, 48))\n",
    "    for (x,y,w,h) in faces:\n",
    "        cv2.rectangle(img, (x, y), (x +w, y + h), (0, 255, 0), 2)\n",
    "        id, confidence = recognizer.predict(gray[y:y + h, x:x + w])\n",
    "        if (confidence < 100):\n",
    "            id = names[id]\n",
    "            confidence = \"  {0}%\".format(round(100 - confidence))\n",
    "        cv2.putText(img, str(id), (x + 15, y - 5), font, 1, (255, 255, 0), 1)\n",
    "        cv2.putText(img, str(confidence), (x + 5, y - 25), font, 1, (255, 255, 0), 1)\n",
    "    cv2.imshow('camera', img)\n",
    "    cv2.waitKey(10)"
   ]
  },
  {
   "cell_type": "code",
   "execution_count": null,
   "metadata": {},
   "outputs": [],
   "source": []
  },
  {
   "cell_type": "code",
   "execution_count": null,
   "metadata": {},
   "outputs": [],
   "source": []
  }
 ],
 "metadata": {
  "kernelspec": {
   "display_name": "Python 3",
   "language": "python",
   "name": "python3"
  },
  "language_info": {
   "codemirror_mode": {
    "name": "ipython",
    "version": 3
   },
   "file_extension": ".py",
   "mimetype": "text/x-python",
   "name": "python",
   "nbconvert_exporter": "python",
   "pygments_lexer": "ipython3",
   "version": "3.8.3"
  }
 },
 "nbformat": 4,
 "nbformat_minor": 4
}
