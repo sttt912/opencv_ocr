{
 "cells": [
  {
   "cell_type": "code",
   "execution_count": 6,
   "metadata": {},
   "outputs": [
    {
     "ename": "SyntaxError",
     "evalue": "invalid syntax (<ipython-input-6-f175359d57f7>, line 15)",
     "output_type": "error",
     "traceback": [
      "\u001b[1;36m  File \u001b[1;32m\"<ipython-input-6-f175359d57f7>\"\u001b[1;36m, line \u001b[1;32m15\u001b[0m\n\u001b[1;33m    count+=1\u001b[0m\n\u001b[1;37m    ^\u001b[0m\n\u001b[1;31mSyntaxError\u001b[0m\u001b[1;31m:\u001b[0m invalid syntax\n"
     ]
    }
   ],
   "source": [
    "import cv2\n",
    "face_cascade = cv2.CascadeClassifier('/haarcasde_frontalface_alt2.xml')\n",
    "cap = cv2.VideoCapture(0)\n",
    "face_id=input(\"\\n Input ID ==>\")\n",
    "count = 0\n",
    "while 1:\n",
    "    ret, img = cap.read()\n",
    "    gray = cv2.cvtColor(img, cv2.COLOR_BGR2GRAY)\n",
    "    faces = face_cascade.detectMultiScale(gray, 1.3, 5)\n",
    "    for (x, y, w, h) in faces:\n",
    "        cv2.rectangle(img, (x, y), (x + w,y + h), (255, 255, 0), 2)\n",
    "        roi_gray = gray[y:y + h, x:x + w]\n",
    "        cv2.imwrite(\"../dataset/.\"+ str(face_id) + '.' + str(count)\n",
    "                    + \".jpg\", gray[y:y + h, x:x + w]\n",
    "        count+=1\n",
    "        print(\"set \"+str(count)+\" images\")\n",
    "    cv2.imshow('img', img)\n",
    "    k = cv2.waitKey(10)\n",
    "    if k == 27:\n",
    "        break\n",
    "    elif count >= 100:\n",
    "        print(\"Done!\")\n",
    "        break"
   ]
  },
  {
   "cell_type": "code",
   "execution_count": null,
   "metadata": {},
   "outputs": [],
   "source": []
  }
 ],
 "metadata": {
  "kernelspec": {
   "display_name": "Python 3",
   "language": "python",
   "name": "python3"
  },
  "language_info": {
   "codemirror_mode": {
    "name": "ipython",
    "version": 3
   },
   "file_extension": ".py",
   "mimetype": "text/x-python",
   "name": "python",
   "nbconvert_exporter": "python",
   "pygments_lexer": "ipython3",
   "version": "3.8.5"
  }
 },
 "nbformat": 4,
 "nbformat_minor": 4
}
